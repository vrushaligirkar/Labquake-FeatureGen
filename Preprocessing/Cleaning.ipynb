{
  "nbformat": 4,
  "nbformat_minor": 0,
  "metadata": {
    "colab": {
      "name": "Cleaning.ipynb",
      "provenance": [],
      "collapsed_sections": []
    },
    "kernelspec": {
      "name": "python3",
      "display_name": "Python 3"
    },
    "accelerator": "GPU"
  },
  "cells": [
    {
      "cell_type": "markdown",
      "metadata": {
        "id": "vfEKyTM-Ewpb"
      },
      "source": [
        "To de-noise the input raw data and reduce the size"
      ]
    },
    {
      "cell_type": "code",
      "metadata": {
        "id": "j8aXaXg9nErS"
      },
      "source": [
        "import pandas as pd\n",
        "import h5py\n",
        "from scipy.io import loadmat\n",
        "import numpy as np\n",
        "import math\n",
        "import sys\n",
        "import matplotlib.pyplot as plt"
      ],
      "execution_count": 1,
      "outputs": []
    },
    {
      "cell_type": "code",
      "metadata": {
        "id": "Z6_9uS5hnh5H"
      },
      "source": [
        "\n",
        "!unzip '/content/drive/My Drive/Colab Notebooks/Labquake_prediction/Data_extraction/data/Zipfiles/WF_time_set1.zip'    # WF Files from 147 to 1000\n",
        "!unzip '/content/drive/My Drive/Colab Notebooks/Labquake_prediction/Data_extraction/data/Zipfiles/WF_time_set2.zip'    # WF Files from 1001 to 2000\n",
        "!unzip '/content/drive/My Drive/Colab Notebooks/Labquake_prediction/Data_extraction/data/Zipfiles/WF_time_set3.zip'    # WF Files from 2001 to 3000\n",
        "!unzip '/content/drive/My Drive/Colab Notebooks/Labquake_prediction/Data_extraction/data/Zipfiles/WF_time_set4.zip'    # WF Files from 3001 to 4000\n",
        "!unzip '/content/drive/My Drive/Colab Notebooks/Labquake_prediction/Data_extraction/data/Zipfiles/WF_time_set5.zip'    # WF Files from 4001 to 5320"
      ],
      "execution_count": null,
      "outputs": []
    },
    {
      "cell_type": "code",
      "metadata": {
        "id": "60SuMW68Vy1D"
      },
      "source": [
        "def truncate(n,i):\n",
        "  return math.floor(n*10**i)/10**i\n",
        "\n",
        "\n",
        "\n",
        "# Data cleaning\n",
        "## Step 1: Remove noise which ranges from 0th to 480th observation \n",
        "## Step 2: Tune data type for optimal \n",
        "\n",
        "def get_clean_data(st, en):\n",
        "\n",
        "  clean_ls = np.zeros((256*(en-st),1568), dtype='int16')\n",
        "  ttime = np.zeros(256*(en-st), dtype='float32')\n",
        "  ptr = 0\n",
        "  for i in range(st,en):\n",
        "    dfile = h5py.File('WF_time_'+str(i)+'.mat', 'r')\n",
        "    tt = np.array(dfile['Data_file'][0], dtype='float32')\n",
        "    d = np.array(dfile['Data_file'][1], dtype='int16')   # All amplitude entries are integers\n",
        "    noise = 480\n",
        "    wave_len = 2048\n",
        "    wave_cnt = 256 \n",
        "    \n",
        "    for j in range(1,wave_cnt+1):\n",
        "      t = truncate(tt[(j*wave_len)-1],3)\n",
        "      wf = d[noise+(j-1)*wave_len-1:(j*wave_len)-1]\n",
        "      ttime[(wave_cnt*ptr)+j-1] = t\n",
        "      clean_ls[(wave_cnt*ptr)+j-1,:] = wf\n",
        "    ptr += 1\n",
        "\n",
        "  return clean_ls, ttime\n"
      ],
      "execution_count": null,
      "outputs": []
    },
    {
      "cell_type": "code",
      "metadata": {
        "colab": {
          "base_uri": "https://localhost:8080/"
        },
        "id": "fpBANPGhWlnb",
        "outputId": "d355a79f-973a-4d95-c0ae-d6fa432125fe"
      },
      "source": [
        "acdat, gtime = get_clean_data(3001,4001)\n",
        "print(np.shape(acdat))\n",
        "print(np.shape(gtime))\n",
        "# print(sys.getsizeof(acdat), sys.getsizeof(gtime))\n",
        "# print(gtime)\n",
        "# print(acdat)"
      ],
      "execution_count": null,
      "outputs": [
        {
          "output_type": "stream",
          "text": [
            "(256000, 1568)\n",
            "(256000,)\n"
          ],
          "name": "stdout"
        }
      ]
    },
    {
      "cell_type": "code",
      "metadata": {
        "id": "VWdycAwXY1DA"
      },
      "source": [
        "np.savez_compressed('/content/drive/My Drive/Colab Notebooks/Labquake_prediction/Data_extraction/data/Npclean1.npz', Time=gtime, AcData=acdat)\n",
        "np.savez_compressed('/content/drive/My Drive/Colab Notebooks/Labquake_prediction/Data_extraction/data/Npclean2.npz', Time=gtime, AcData=acdat)\n",
        "np.savez_compressed('/content/drive/My Drive/Colab Notebooks/Labquake_prediction/Data_extraction/data/Npclean3.npz', Time=gtime, AcData=acdat)\n",
        "np.savez_compressed('/content/drive/My Drive/Colab Notebooks/Labquake_prediction/Data_extraction/data/Npclean4.npz', Time=gtime, AcData=acdat)\n",
        "np.savez_compressed('/content/drive/My Drive/Colab Notebooks/Labquake_prediction/Data_extraction/data/Npclean5.npz', Time=gtime, AcData=acdat)\n",
        "\n",
        "\n",
        "# Reduced the input data size from ~25 GB to ~3 GB"
      ],
      "execution_count": null,
      "outputs": []
    }
  ]
}